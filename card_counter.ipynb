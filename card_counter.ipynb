{
  "nbformat": 4,
  "nbformat_minor": 0,
  "metadata": {
    "colab": {
      "name": "card_counter.ipynb",
      "provenance": [],
      "collapsed_sections": []
    },
    "kernelspec": {
      "name": "python3",
      "display_name": "Python 3"
    },
    "language_info": {
      "name": "python"
    }
  },
  "cells": [
    {
      "cell_type": "code",
      "metadata": {
        "id": "2JwcTSCtksMS"
      },
      "source": [
        "from keras.layers import Dense\n",
        "import tensorflow as tf\n",
        "import sklearn as skl\n",
        "import pandas as pd\n",
        "from keras.models import Sequential\n",
        "from sklearn.model_selection import train_test_split\n",
        "import numpy as np\n",
        "import random\n",
        "\n",
        "#hello\n"
      ],
      "execution_count": null,
      "outputs": []
    },
    {
      "cell_type": "code",
      "metadata": {
        "id": "fb-5G7HTlxX-"
      },
      "source": [
        "#build decks as lists"
      ],
      "execution_count": null,
      "outputs": []
    },
    {
      "cell_type": "code",
      "metadata": {
        "id": "mVYUxOI9oReJ"
      },
      "source": [
        "Ace = [1, 11] "
      ],
      "execution_count": null,
      "outputs": []
    },
    {
      "cell_type": "code",
      "metadata": {
        "id": "snSoWQOQT71r"
      },
      "source": [
        "deck = []\n",
        "for i in range(13):\n",
        "  for j in range(4):\n",
        "    index = i + 1\n",
        "    if index == 1:\n",
        "      deck.append(Ace)\n",
        "    elif index >= 10:\n",
        "      deck.append(10)\n",
        "    else:\n",
        "      deck.append(index)\n",
        "random.shuffle(deck)"
      ],
      "execution_count": null,
      "outputs": []
    },
    {
      "cell_type": "code",
      "metadata": {
        "colab": {
          "base_uri": "https://localhost:8080/"
        },
        "id": "lDh_6YW3oTIQ",
        "outputId": "95ace11c-43b8-43a6-9421-056c5b45ad2c"
      },
      "source": [
        "Ace"
      ],
      "execution_count": null,
      "outputs": [
        {
          "output_type": "execute_result",
          "data": {
            "text/plain": [
              "[1, 11]"
            ]
          },
          "metadata": {},
          "execution_count": 84
        }
      ]
    },
    {
      "cell_type": "code",
      "metadata": {
        "colab": {
          "base_uri": "https://localhost:8080/"
        },
        "id": "KcC_u-Hopl9Q",
        "outputId": "7a248c01-f1f8-4c8a-afbf-1ae98577e9d0"
      },
      "source": [
        "deck"
      ],
      "execution_count": null,
      "outputs": [
        {
          "output_type": "execute_result",
          "data": {
            "text/plain": [
              "[3,\n",
              " [1, 11],\n",
              " 4,\n",
              " 2,\n",
              " 10,\n",
              " 6,\n",
              " 2,\n",
              " 10,\n",
              " 10,\n",
              " 7,\n",
              " 10,\n",
              " 10,\n",
              " 5,\n",
              " 10,\n",
              " 7,\n",
              " 5,\n",
              " 2,\n",
              " 10,\n",
              " 9,\n",
              " 7,\n",
              " 8,\n",
              " 5,\n",
              " 10,\n",
              " 7,\n",
              " 5,\n",
              " 8,\n",
              " 3,\n",
              " 2,\n",
              " 6,\n",
              " 9,\n",
              " 3,\n",
              " 8,\n",
              " 10,\n",
              " 10,\n",
              " 10,\n",
              " 10,\n",
              " 10,\n",
              " 4,\n",
              " 10,\n",
              " 6,\n",
              " [1, 11],\n",
              " 8,\n",
              " 10,\n",
              " [1, 11],\n",
              " 6,\n",
              " 3,\n",
              " 9,\n",
              " 9,\n",
              " 4,\n",
              " 10,\n",
              " [1, 11],\n",
              " 4]"
            ]
          },
          "metadata": {},
          "execution_count": 85
        }
      ]
    },
    {
      "cell_type": "code",
      "metadata": {
        "id": "Scj5DCS8pmtb"
      },
      "source": [
        "#define the boardstate"
      ],
      "execution_count": null,
      "outputs": []
    },
    {
      "cell_type": "code",
      "metadata": {
        "id": "xXaaMg0NqCTd"
      },
      "source": [
        "#one card gets dealt to players and house to start the round\n",
        "#remove cards from deck and \"pass\" them to new lists for calculating\n",
        "#randomly generate index values to pick cards from deck\n",
        "#place the card values in the house's and beneder's hands\n"
      ],
      "execution_count": null,
      "outputs": []
    },
    {
      "cell_type": "code",
      "metadata": {
        "id": "ownKiu4GzTj6"
      },
      "source": [
        "\n",
        "  #define the different functions as classes to make them easier to call later\n",
        "def initialize(deck, benders_hand, house):\n",
        "\n",
        "  for i in range(13):\n",
        "    for j in range(4):\n",
        "      index = i + 1\n",
        "      if index == 1:\n",
        "        deck.append(Ace)\n",
        "      elif index >= 10:\n",
        "        deck.append(10)\n",
        "      else:\n",
        "        deck.append(index)\n",
        "        print(\"im here\")\n",
        "  #random.shuffle(deck)\n",
        "  #benders_hand = []\n",
        "  #house = []\n",
        "  index = random.choice(deck)\n",
        "  benders_hand.append(index)\n",
        "  deck.remove(index)\n",
        "  index = random.choice(deck)\n",
        "  house.append(index)\n",
        "  deck.remove(index)\n",
        "  print(\"im here now\")\n",
        "  index = random.choice(deck)\n",
        "  benders_hand.append(index)\n",
        "  deck.remove(index)\n",
        "  index = random.choice(deck)\n",
        "  house.append(index)\n",
        "  deck.remove(index)\n",
        "  return deck, benders_hand, house\n",
        "\n",
        "def hit(hand):\n",
        "  index = random.choice(deck)\n",
        "  hand.append(index)\n",
        "  deck.remove(index);\n"
      ],
      "execution_count": 103,
      "outputs": []
    },
    {
      "cell_type": "code",
      "metadata": {
        "id": "sKaRETwbbojK"
      },
      "source": [
        "#define new funciton to get the value of bender's hand such that if bender has an ace,\n",
        "#we calculate the value of benders hand to see if the hand busts at 11, and if thats the case we need to send the value over to 1\n",
        "#if you have double aces one has to be valued at 1, to bring you to 12 total, \n",
        "#if you bust with an ace valuing at 11, it's value is now 1\n",
        "\n",
        "\n",
        "\n",
        "\n",
        "def ace_value(hand_value):\n",
        "  ace_value = 11\n",
        "  if hand_value + ace_value > 21:\n",
        "    ace_value = 1\n",
        "  \n",
        "  return ace_value\n"
      ],
      "execution_count": 104,
      "outputs": []
    },
    {
      "cell_type": "code",
      "metadata": {
        "id": "-B-CpWkwuK0H"
      },
      "source": [
        "#this is simplified and needs to be more complicated\n",
        "\n",
        "def hand_value(hand):\n",
        "  hand_value = 0\n",
        "  for x in hand:\n",
        "    if x == Ace:\n",
        "      hand_value += ace_value(hand_value)  #this function should just return either 1 or 11\n",
        "    else:\n",
        "      hand_value += x\n",
        "    \n",
        "  return hand_value"
      ],
      "execution_count": 105,
      "outputs": []
    },
    {
      "cell_type": "code",
      "metadata": {
        "id": "h_1R-RoVx8Hf"
      },
      "source": [
        ""
      ],
      "execution_count": 105,
      "outputs": []
    },
    {
      "cell_type": "code",
      "metadata": {
        "colab": {
          "base_uri": "https://localhost:8080/"
        },
        "id": "l9rmVg-WyNw2",
        "outputId": "534343cc-cc9c-4bcc-d435-770107368c0c"
      },
      "source": [
        "benders_hand = []\n",
        "house = []\n",
        "deck = []\n",
        "initialize(deck, benders_hand, house)\n",
        "print(deck)\n",
        "print(benders_hand)\n",
        "print(house)"
      ],
      "execution_count": 111,
      "outputs": [
        {
          "output_type": "stream",
          "name": "stdout",
          "text": [
            "im here\n",
            "im here\n",
            "im here\n",
            "im here\n",
            "im here\n",
            "im here\n",
            "im here\n",
            "im here\n",
            "im here\n",
            "im here\n",
            "im here\n",
            "im here\n",
            "im here\n",
            "im here\n",
            "im here\n",
            "im here\n",
            "im here\n",
            "im here\n",
            "im here\n",
            "im here\n",
            "im here\n",
            "im here\n",
            "im here\n",
            "im here\n",
            "im here\n",
            "im here\n",
            "im here\n",
            "im here\n",
            "im here\n",
            "im here\n",
            "im here\n",
            "im here\n",
            "im here now\n",
            "[[1, 11], [1, 11], 2, 2, 2, 2, 3, 3, 3, 3, 4, 4, 5, 5, 5, 5, 6, 6, 6, 6, 7, 7, 7, 7, 8, 8, 8, 8, 9, 9, 9, 9, 10, 10, 10, 10, 10, 10, 10, 10, 10, 10, 10, 10, 10, 10, 10, 10]\n",
            "[4, [1, 11]]\n",
            "[4, [1, 11]]\n"
          ]
        }
      ]
    },
    {
      "cell_type": "code",
      "metadata": {
        "id": "r1UJHK8vTAKs",
        "colab": {
          "base_uri": "https://localhost:8080/"
        },
        "outputId": "ae08cd20-f86c-4dcb-f9bf-71d5ba4ff9c1"
      },
      "source": [
        "\n",
        "\n",
        "for x in deck:\n",
        "  \n",
        "  for x in benders_hand:\n",
        "    if hand_value(benders_hand) >= 17:\n",
        "      pass\n",
        "    elif hand_value(benders_hand) < 17:\n",
        "      hit(benders_hand)\n",
        "      #if benders_hand.any() == Ace:\n",
        "        #extract Ace value from that list, set it's new value\n",
        "        #define new funciton to get the value of bender's hand such that if bender has an ace,\n",
        "        #we calculate the value of benders hand to see if the hand busts at 11, and if thats the case we need to send the value over to 1\n",
        "  for x in house:\n",
        "    if hand_value(house) >= 17:\n",
        "      pass\n",
        "    elif hand_value(house) < 17:\n",
        "      hit(house)\n",
        " \n",
        "  if hand_value(benders_hand) >= 21:\n",
        "    break\n",
        "  if hand_value(house) >=21:\n",
        "    break\n",
        "print(benders_hand)\n",
        "print(house)"
      ],
      "execution_count": 112,
      "outputs": [
        {
          "output_type": "stream",
          "name": "stdout",
          "text": [
            "[4, [1, 11], 10]\n",
            "[4, [1, 11], 4]\n"
          ]
        }
      ]
    },
    {
      "cell_type": "code",
      "metadata": {
        "id": "uXFpBHXO4MPh"
      },
      "source": [
        "#[4, [1, 11], 10]\n",
        "#[4, [1, 11], 4]\n",
        "#ace_value function not evalutating properly. Sets value of ace as a hard value, needs recursion\n",
        "# sees Ace, sets value, does not change if the new hand value would bust with the present value"
      ],
      "execution_count": null,
      "outputs": []
    }
  ]
}