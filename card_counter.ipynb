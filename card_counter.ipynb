{
  "nbformat": 4,
  "nbformat_minor": 0,
  "metadata": {
    "colab": {
      "name": "card_counter.ipynb",
      "provenance": [],
      "collapsed_sections": []
    },
    "kernelspec": {
      "name": "python3",
      "display_name": "Python 3"
    },
    "language_info": {
      "name": "python"
    }
  },
  "cells": [
    {
      "cell_type": "code",
      "metadata": {
        "id": "2JwcTSCtksMS"
      },
      "source": [
        "from keras.layers import Dense\n",
        "import tensorflow as tf\n",
        "import sklearn as skl\n",
        "import pandas as pd\n",
        "from keras.models import Sequential\n",
        "from sklearn.model_selection import train_test_split\n",
        "import numpy as np\n",
        "import random\n",
        "\n",
        "#hello\n"
      ],
      "execution_count": null,
      "outputs": []
    },
    {
      "cell_type": "code",
      "metadata": {
        "id": "fb-5G7HTlxX-"
      },
      "source": [
        "#build decks as lists"
      ],
      "execution_count": null,
      "outputs": []
    },
    {
      "cell_type": "code",
      "metadata": {
        "id": "mVYUxOI9oReJ"
      },
      "source": [
        "Ace = [1, 11] "
      ],
      "execution_count": null,
      "outputs": []
    },
    {
      "cell_type": "code",
      "metadata": {
        "id": "snSoWQOQT71r"
      },
      "source": [
        "deck = []\n",
        "for i in range(13):\n",
        "  for j in range(4):\n",
        "    index = i + 1\n",
        "    if index == 1:\n",
        "      deck.append(Ace)\n",
        "    elif index >= 10:\n",
        "      deck.append(10)\n",
        "    else:\n",
        "      deck.append(index)\n",
        "random.shuffle(deck)"
      ],
      "execution_count": null,
      "outputs": []
    },
    {
      "cell_type": "code",
      "metadata": {
        "colab": {
          "base_uri": "https://localhost:8080/"
        },
        "id": "lDh_6YW3oTIQ",
        "outputId": "82fb0af5-8cdd-4e2d-bbbb-6ff98fc9510c"
      },
      "source": [
        "Ace"
      ],
      "execution_count": null,
      "outputs": [
        {
          "output_type": "execute_result",
          "data": {
            "text/plain": [
              "[1, 11]"
            ]
          },
          "metadata": {},
          "execution_count": 13
        }
      ]
    },
    {
      "cell_type": "code",
      "metadata": {
        "colab": {
          "base_uri": "https://localhost:8080/"
        },
        "id": "KcC_u-Hopl9Q",
        "outputId": "5b14e462-a1d0-4072-d889-fd9186b2bada"
      },
      "source": [
        "deck"
      ],
      "execution_count": null,
      "outputs": [
        {
          "output_type": "execute_result",
          "data": {
            "text/plain": [
              "[[1, 11],\n",
              " [1, 11],\n",
              " [1, 11],\n",
              " [1, 11],\n",
              " 2,\n",
              " 2,\n",
              " 2,\n",
              " 2,\n",
              " 3,\n",
              " 3,\n",
              " 3,\n",
              " 3,\n",
              " 4,\n",
              " 4,\n",
              " 4,\n",
              " 4,\n",
              " 5,\n",
              " 5,\n",
              " 5,\n",
              " 5,\n",
              " 6,\n",
              " 6,\n",
              " 6,\n",
              " 6,\n",
              " 7,\n",
              " 7,\n",
              " 7,\n",
              " 7,\n",
              " 8,\n",
              " 8,\n",
              " 8,\n",
              " 8,\n",
              " 9,\n",
              " 9,\n",
              " 9,\n",
              " 9,\n",
              " 10,\n",
              " 10,\n",
              " 10,\n",
              " 10,\n",
              " 10,\n",
              " 10,\n",
              " 10,\n",
              " 10,\n",
              " 10,\n",
              " 10,\n",
              " 10,\n",
              " 10,\n",
              " 10,\n",
              " 10,\n",
              " 10,\n",
              " 10]"
            ]
          },
          "metadata": {},
          "execution_count": 43
        }
      ]
    },
    {
      "cell_type": "code",
      "metadata": {
        "id": "Scj5DCS8pmtb"
      },
      "source": [
        "#define the boardstate"
      ],
      "execution_count": null,
      "outputs": []
    },
    {
      "cell_type": "code",
      "metadata": {
        "id": "xXaaMg0NqCTd"
      },
      "source": [
        "#one card gets dealt to players and house to start the round\n",
        "#remove cards from deck and \"pass\" them to new lists for calculating\n",
        "#randomly generate index values to pick cards from deck\n",
        "#place the card values in the house's and beneder's hands\n"
      ],
      "execution_count": null,
      "outputs": []
    },
    {
      "cell_type": "code",
      "metadata": {
        "id": "ownKiu4GzTj6"
      },
      "source": [
        "\n",
        "  #define the different functions as classes to make them easier to call later\n",
        "def initialize():\n",
        "  index = random.choice(deck)\n",
        "  benders_hand = [index]\n",
        "  deck.remove(index);\n",
        "  index = random.choice(deck)\n",
        "  house = [index]\n",
        "  deck.remove(index);\n",
        "  index = random.choice(deck)\n",
        "  benders_hand.append(index)\n",
        "  deck.remove(index);\n",
        "  index = random.choice(deck)\n",
        "  house.append(index)\n",
        "  deck.remove(index);\n",
        "def hit():\n",
        "  index = random.choice(deck)\n",
        "  benders_hand.append(index)\n",
        "  deck.remove(index);\n"
      ],
      "execution_count": null,
      "outputs": []
    },
    {
      "cell_type": "code",
      "metadata": {
        "id": "sKaRETwbbojK"
      },
      "source": [
        "#define new funciton to get the value of bender's hand such that if bender has an ace,\n",
        "#we calculate the value of benders hand to see if the hand busts at 11, and if thats the case we need to send the value over to 1\n",
        "#if you have double aces one has to be valued at 1, to bring you to 12 total, \n",
        "#if you bust with an ace valuing at 11, it's value is now 1\n",
        "#\n",
        "def ace_value():\n"
      ],
      "execution_count": null,
      "outputs": []
    },
    {
      "cell_type": "code",
      "metadata": {
        "id": "r1UJHK8vTAKs",
        "colab": {
          "base_uri": "https://localhost:8080/",
          "height": 130
        },
        "outputId": "2debcb01-9876-496f-94a0-ac8996c6ba92"
      },
      "source": [
        "initialize()\n",
        "for x in deck:\n",
        "  \n",
        "  for x in benders_hand:\n",
        "    if x + x >= 17:\n",
        "      pass\n",
        "    elif x + x < 17:\n",
        "      hit()\n",
        "      #if benders_hand.any() == Ace:\n",
        "        #extract Ace value from that list, set it's new value\n",
        "        #define new funciton to get the value of bender's hand such that if bender has an ace,\n",
        "        #we calculate the value of benders hand to see if the hand busts at 11, and if thats the case we need to send the value over to 1\n",
        "\n",
        "  if np.cumsum(house).all() >=17:\n",
        "    pass\n",
        "  elif np.cumsum(house).all() <17:\n",
        "    hit()\n",
        "  if benders_hand | house >= 21:\n",
        "    break\n",
        "benders_hand\n",
        "house"
      ],
      "execution_count": 44,
      "outputs": [
        {
          "output_type": "error",
          "ename": "IndentationError",
          "evalue": "ignored",
          "traceback": [
            "\u001b[0;36m  File \u001b[0;32m\"<ipython-input-44-b7724b84a796>\"\u001b[0;36m, line \u001b[0;32m11\u001b[0m\n\u001b[0;31m    if np.cumsum(house).all() >=17:\u001b[0m\n\u001b[0m    ^\u001b[0m\n\u001b[0;31mIndentationError\u001b[0m\u001b[0;31m:\u001b[0m expected an indented block\n"
          ]
        }
      ]
    },
    {
      "cell_type": "code",
      "metadata": {
        "id": "L3yRD5NYsSoJ"
      },
      "source": [
        "index = random.choice(deck)\n",
        "benders_hand = [index]\n",
        "\n",
        "deck.remove(index);\n",
        "index = random.choice(deck)\n",
        "\n",
        "house = [index]\n",
        "\n",
        "deck.remove(index);\n",
        "index = random.choice(deck)\n",
        "\n",
        "benders_hand.append(index)\n",
        "\n",
        "deck.remove(index);\n",
        "index = random.choice(deck)\n",
        "\n",
        "house.append(index)\n",
        "\n",
        "deck.remove(index);\n"
      ],
      "execution_count": null,
      "outputs": []
    },
    {
      "cell_type": "code",
      "metadata": {
        "colab": {
          "base_uri": "https://localhost:8080/"
        },
        "id": "Ndt-h195u0NK",
        "outputId": "48bc102a-30f9-4b1e-a5aa-ceed2dfd9803"
      },
      "source": [
        "benders_hand"
      ],
      "execution_count": null,
      "outputs": [
        {
          "output_type": "execute_result",
          "data": {
            "text/plain": [
              "[3, 10]"
            ]
          },
          "metadata": {},
          "execution_count": 5
        }
      ]
    },
    {
      "cell_type": "code",
      "metadata": {
        "colab": {
          "base_uri": "https://localhost:8080/"
        },
        "id": "PI8YkqrBu1RB",
        "outputId": "780e47a7-6d2c-42a1-b0f7-6ab3e9adc83f"
      },
      "source": [
        "house"
      ],
      "execution_count": null,
      "outputs": [
        {
          "output_type": "execute_result",
          "data": {
            "text/plain": [
              "[10, 4]"
            ]
          },
          "metadata": {},
          "execution_count": 6
        }
      ]
    },
    {
      "cell_type": "code",
      "metadata": {
        "colab": {
          "base_uri": "https://localhost:8080/"
        },
        "id": "t4WY9dVfu2b7",
        "outputId": "48a74721-10c3-4caf-b5f3-59ef88a214f3"
      },
      "source": [
        "deck"
      ],
      "execution_count": null,
      "outputs": [
        {
          "output_type": "execute_result",
          "data": {
            "text/plain": [
              "[[1, 11],\n",
              " [1, 11],\n",
              " [1, 11],\n",
              " [1, 11],\n",
              " 2,\n",
              " 2,\n",
              " 2,\n",
              " 2,\n",
              " 3,\n",
              " 3,\n",
              " 3,\n",
              " 4,\n",
              " 4,\n",
              " 4,\n",
              " 5,\n",
              " 5,\n",
              " 5,\n",
              " 5,\n",
              " 6,\n",
              " 6,\n",
              " 6,\n",
              " 6,\n",
              " 7,\n",
              " 7,\n",
              " 7,\n",
              " 7,\n",
              " 8,\n",
              " 8,\n",
              " 8,\n",
              " 8,\n",
              " 9,\n",
              " 9,\n",
              " 9,\n",
              " 9,\n",
              " 10,\n",
              " 10,\n",
              " 10,\n",
              " 10,\n",
              " 10,\n",
              " 10,\n",
              " 10,\n",
              " 10,\n",
              " 10,\n",
              " 10,\n",
              " 10,\n",
              " 10,\n",
              " 10,\n",
              " 10]"
            ]
          },
          "metadata": {},
          "execution_count": 7
        }
      ]
    },
    {
      "cell_type": "code",
      "metadata": {
        "id": "GwnzU7IHvXqD"
      },
      "source": [
        ""
      ],
      "execution_count": null,
      "outputs": []
    }
  ]
}